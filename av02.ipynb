{
 "cells": [
  {
   "cell_type": "markdown",
   "id": "ac249972",
   "metadata": {},
   "source": [
    "# Importa bibliotecas necessárias\n",
    "import warnings   # Usada para controlar ou suprimir mensagens de aviso do Python\n",
    "import requests   # Usada para fazer requisições HTTP (baixar arquivos da internet, por exemplo)\n",
    "import zipfile    # Permite trabalhar com arquivos compactados no formato .zip\n",
    "import io         # Fornece ferramentas para lidar com fluxos de dados (ex: arquivos em memória)\n",
    " \n",
    "# Configura o warnings para ignorar avisos (não vai mostrar mensagens de warning na execução)\n",
    "warnings.simplefilter('ignore')\n",
    " \n",
    "# Importa bibliotecas adicionais\n",
    "import pandas as pd       # Biblioteca poderosa para manipulação e análise de dados\n",
    "from scipy.io import arff # Permite carregar arquivos no formato .arff (usado em datasets de machine learning, como do Weka)\n",
    " "
   ]
  },
  {
   "cell_type": "code",
   "execution_count": 23,
   "id": "588b60f8",
   "metadata": {},
   "outputs": [],
   "source": [
    "import warnings\n",
    "import requests\n",
    "import zipfile\n",
    "import io\n"
   ]
  },
  {
   "cell_type": "code",
   "execution_count": 24,
   "id": "1af7db87",
   "metadata": {},
   "outputs": [],
   "source": [
    "warnings.simplefilter('ignore')\n"
   ]
  },
  {
   "cell_type": "markdown",
   "id": "1b8c354d",
   "metadata": {},
   "source": [
    "Importa bibliotecas adicionais"
   ]
  },
  {
   "cell_type": "code",
   "execution_count": 25,
   "id": "f6ef9c4f",
   "metadata": {},
   "outputs": [
    {
     "ename": "ModuleNotFoundError",
     "evalue": "No module named 'pandas'",
     "output_type": "error",
     "traceback": [
      "\u001b[1;31m---------------------------------------------------------------------------\u001b[0m",
      "\u001b[1;31mModuleNotFoundError\u001b[0m                       Traceback (most recent call last)",
      "Cell \u001b[1;32mIn[25], line 1\u001b[0m\n\u001b[1;32m----> 1\u001b[0m \u001b[38;5;28;01mimport\u001b[39;00m\u001b[38;5;250m \u001b[39m\u001b[38;5;21;01mpandas\u001b[39;00m\u001b[38;5;250m \u001b[39m\u001b[38;5;28;01mas\u001b[39;00m\u001b[38;5;250m \u001b[39m\u001b[38;5;21;01mpd\u001b[39;00m\n\u001b[0;32m      2\u001b[0m \u001b[38;5;28;01mfrom\u001b[39;00m\u001b[38;5;250m \u001b[39m\u001b[38;5;21;01mscipy\u001b[39;00m\u001b[38;5;21;01m.\u001b[39;00m\u001b[38;5;21;01mio\u001b[39;00m\u001b[38;5;250m \u001b[39m\u001b[38;5;28;01mimport\u001b[39;00m arff\n",
      "\u001b[1;31mModuleNotFoundError\u001b[0m: No module named 'pandas'"
     ]
    }
   ],
   "source": [
    "import pandas as pd\n",
    "from scipy.io import arff"
   ]
  }
 ],
 "metadata": {
  "kernelspec": {
   "display_name": "base",
   "language": "python",
   "name": "python3"
  },
  "language_info": {
   "codemirror_mode": {
    "name": "ipython",
    "version": 3
   },
   "file_extension": ".py",
   "mimetype": "text/x-python",
   "name": "python",
   "nbconvert_exporter": "python",
   "pygments_lexer": "ipython3",
   "version": "3.13.5"
  }
 },
 "nbformat": 4,
 "nbformat_minor": 5
}
