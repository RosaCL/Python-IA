{
 "cells": [
  {
   "cell_type": "markdown",
   "id": "ac249972",
   "metadata": {},
   "source": [
    "# Importa bibliotecas necessárias\n",
    "import warnings   # Usada para controlar ou suprimir mensagens de aviso do Python\n",
    "import requests   # Usada para fazer requisições HTTP (baixar arquivos da internet, por exemplo)\n",
    "import zipfile    # Permite trabalhar com arquivos compactados no formato .zip\n",
    "import io         # Fornece ferramentas para lidar com fluxos de dados (ex: arquivos em memória)\n",
    " \n",
    "# Configura o warnings para ignorar avisos (não vai mostrar mensagens de warning na execução)\n",
    "warnings.simplefilter('ignore')\n",
    " \n",
    "# Importa bibliotecas adicionais\n",
    "import pandas as pd       # Biblioteca poderosa para manipulação e análise de dados\n",
    "from scipy.io import arff # Permite carregar arquivos no formato .arff (usado em datasets de machine learning, como do Weka)\n",
    " "
   ]
  },
  {
   "cell_type": "code",
   "execution_count": 28,
   "id": "588b60f8",
   "metadata": {},
   "outputs": [],
   "source": [
    "import warnings\n",
    "import requests\n",
    "import zipfile\n",
    "import io\n",
    "\n"
   ]
  },
  {
   "cell_type": "code",
   "execution_count": 29,
   "id": "1af7db87",
   "metadata": {},
   "outputs": [],
   "source": [
    "warnings.simplefilter('ignore')\n"
   ]
  },
  {
   "cell_type": "markdown",
   "id": "1b8c354d",
   "metadata": {},
   "source": [
    "Importa bibliotecas adicionais"
   ]
  },
  {
   "cell_type": "code",
   "execution_count": 30,
   "id": "1b37e107",
   "metadata": {},
   "outputs": [
    {
     "ename": "ModuleNotFoundError",
     "evalue": "No module named 'pandas'",
     "output_type": "error",
     "traceback": [
      "\u001b[1;31m---------------------------------------------------------------------------\u001b[0m",
      "\u001b[1;31mModuleNotFoundError\u001b[0m                       Traceback (most recent call last)",
      "Cell \u001b[1;32mIn[30], line 1\u001b[0m\n\u001b[1;32m----> 1\u001b[0m \u001b[38;5;28;01mimport\u001b[39;00m\u001b[38;5;250m \u001b[39m\u001b[38;5;21;01mpandas\u001b[39;00m\u001b[38;5;250m \u001b[39m\u001b[38;5;28;01mas\u001b[39;00m\u001b[38;5;250m \u001b[39m\u001b[38;5;21;01mpd\u001b[39;00m\n\u001b[0;32m      2\u001b[0m \u001b[38;5;28;01mfrom\u001b[39;00m\u001b[38;5;250m \u001b[39m\u001b[38;5;21;01mscipy\u001b[39;00m\u001b[38;5;21;01m.\u001b[39;00m\u001b[38;5;21;01mio\u001b[39;00m\u001b[38;5;250m \u001b[39m\u001b[38;5;28;01mimport\u001b[39;00m arff\n",
      "\u001b[1;31mModuleNotFoundError\u001b[0m: No module named 'pandas'"
     ]
    }
   ],
   "source": [
    "import pandas as pd\n",
    "from scipy.io import arff"
   ]
  },
  {
   "cell_type": "markdown",
   "id": "506d5e71",
   "metadata": {},
   "source": [
    "URL onde está o arquivo ZIP com o dataset \"vertebral_column_data\""
   ]
  },
  {
   "cell_type": "code",
   "execution_count": null,
   "id": "660fccac",
   "metadata": {},
   "outputs": [],
   "source": [
    "f_zip = 'http://archive.ics.uci.edu/ml/machine-learning-databases/00212/vertebral_column_data.zip'"
   ]
  },
  {
   "cell_type": "markdown",
   "id": "57a65a3a",
   "metadata": {},
   "source": [
    "Faz a requisição HTTP para baixar o arquivo ZIP da URL\n",
    " O parâmetro stream=True permite que o download seja feito em partes (streaming)"
   ]
  },
  {
   "cell_type": "code",
   "execution_count": null,
   "id": "518d9667",
   "metadata": {},
   "outputs": [],
   "source": [
    "r = requests.get(f_zip, stream=True)"
   ]
  },
  {
   "cell_type": "markdown",
   "id": "446717f7",
   "metadata": {},
   "source": [
    "Abre o arquivo ZIP diretamente da memória (sem precisar salvar em disco antes)"
   ]
  },
  {
   "cell_type": "code",
   "execution_count": null,
   "id": "fac70640",
   "metadata": {},
   "outputs": [],
   "source": [
    "Vertebral_zip = zipfile.ZipFile(io.BytesIO(r.content))"
   ]
  },
  {
   "cell_type": "code",
   "execution_count": null,
   "id": "ac858471",
   "metadata": {},
   "outputs": [],
   "source": [
    "Vertebral_zip.extractall()"
   ]
  },
  {
   "cell_type": "markdown",
   "id": "3b137c0a",
   "metadata": {},
   "source": [
    "Carrega o arquivo .arff (um formato de dataset usado no Weka)"
   ]
  },
  {
   "cell_type": "code",
   "execution_count": null,
   "id": "4dc1810c",
   "metadata": {},
   "outputs": [
    {
     "ename": "NameError",
     "evalue": "name 'arff' is not defined",
     "output_type": "error",
     "traceback": [
      "\u001b[1;31m---------------------------------------------------------------------------\u001b[0m",
      "\u001b[1;31mNameError\u001b[0m                                 Traceback (most recent call last)",
      "Cell \u001b[1;32mIn[18], line 1\u001b[0m\n\u001b[1;32m----> 1\u001b[0m data \u001b[38;5;241m=\u001b[39m \u001b[43marff\u001b[49m\u001b[38;5;241m.\u001b[39mloadarff(\u001b[38;5;124m'\u001b[39m\u001b[38;5;124mcolumn_2C_weka.arff\u001b[39m\u001b[38;5;124m'\u001b[39m)\n",
      "\u001b[1;31mNameError\u001b[0m: name 'arff' is not defined"
     ]
    }
   ],
   "source": [
    "data = arff.loadarff('column_2C_weka.arff')"
   ]
  },
  {
   "cell_type": "markdown",
   "id": "3223cff7",
   "metadata": {},
   "source": [
    "Converte a primeira parte da tupla (os dados) em um DataFrame do Pandas\n",
    "Assim, fica mais fácil manipular, analisar e visualizar os dado"
   ]
  },
  {
   "cell_type": "code",
   "execution_count": null,
   "id": "299c5b96",
   "metadata": {},
   "outputs": [
    {
     "ename": "NameError",
     "evalue": "name 'pd' is not defined",
     "output_type": "error",
     "traceback": [
      "\u001b[1;31m---------------------------------------------------------------------------\u001b[0m",
      "\u001b[1;31mNameError\u001b[0m                                 Traceback (most recent call last)",
      "Cell \u001b[1;32mIn[19], line 1\u001b[0m\n\u001b[1;32m----> 1\u001b[0m df \u001b[38;5;241m=\u001b[39m \u001b[43mpd\u001b[49m\u001b[38;5;241m.\u001b[39mDataFrame(data[\u001b[38;5;241m0\u001b[39m])\n\u001b[0;32m      2\u001b[0m df\u001b[38;5;241m.\u001b[39mhead()\n",
      "\u001b[1;31mNameError\u001b[0m: name 'pd' is not defined"
     ]
    }
   ],
   "source": [
    "df = pd.DataFrame(data[0])\n",
    "df.head()"
   ]
  },
  {
   "cell_type": "markdown",
   "id": "e63a42cb",
   "metadata": {},
   "source": [
    "Exploração dos dados"
   ]
  },
  {
   "cell_type": "code",
   "execution_count": null,
   "id": "4f8af4c1",
   "metadata": {},
   "outputs": [
    {
     "ename": "NameError",
     "evalue": "name 'df' is not defined",
     "output_type": "error",
     "traceback": [
      "\u001b[1;31m---------------------------------------------------------------------------\u001b[0m",
      "\u001b[1;31mNameError\u001b[0m                                 Traceback (most recent call last)",
      "Cell \u001b[1;32mIn[23], line 1\u001b[0m\n\u001b[1;32m----> 1\u001b[0m \u001b[43mdf\u001b[49m\u001b[38;5;241m.\u001b[39mshape\n\u001b[0;32m      3\u001b[0m df\u001b[38;5;241m.\u001b[39mcolumns\n\u001b[0;32m      5\u001b[0m df\u001b[38;5;241m.\u001b[39mdtypes\n",
      "\u001b[1;31mNameError\u001b[0m: name 'df' is not defined"
     ]
    }
   ],
   "source": [
    "df.shape\n",
    "\n",
    "df.columns\n",
    "\n",
    "df.dtypes"
   ]
  },
  {
   "cell_type": "markdown",
   "id": "564b9d4d",
   "metadata": {},
   "source": [
    "Decodifica a coluna de classe que está em bytes"
   ]
  },
  {
   "cell_type": "code",
   "execution_count": null,
   "id": "08e2fed3",
   "metadata": {},
   "outputs": [
    {
     "ename": "NameError",
     "evalue": "name 'df' is not defined",
     "output_type": "error",
     "traceback": [
      "\u001b[1;31m---------------------------------------------------------------------------\u001b[0m",
      "\u001b[1;31mNameError\u001b[0m                                 Traceback (most recent call last)",
      "Cell \u001b[1;32mIn[24], line 1\u001b[0m\n\u001b[1;32m----> 1\u001b[0m df[\u001b[38;5;124m'\u001b[39m\u001b[38;5;124mclass\u001b[39m\u001b[38;5;124m'\u001b[39m] \u001b[38;5;241m=\u001b[39m \u001b[43mdf\u001b[49m[\u001b[38;5;124m'\u001b[39m\u001b[38;5;124mclass\u001b[39m\u001b[38;5;124m'\u001b[39m]\u001b[38;5;241m.\u001b[39mstr\u001b[38;5;241m.\u001b[39mdecode(\u001b[38;5;124m'\u001b[39m\u001b[38;5;124mutf-8\u001b[39m\u001b[38;5;124m'\u001b[39m)\n",
      "\u001b[1;31mNameError\u001b[0m: name 'df' is not defined"
     ]
    }
   ],
   "source": [
    "df['class'] = df['class'].str.decode('utf-8')"
   ]
  },
  {
   "cell_type": "markdown",
   "id": "4f05b731",
   "metadata": {},
   "source": [
    " Mapeia as classes 'Normal' e 'Abnormal' para valores numéricos\n",
    "'Normal' -> 0, 'Abnormal' -> 1"
   ]
  },
  {
   "cell_type": "code",
   "execution_count": null,
   "id": "1d1d7edf",
   "metadata": {},
   "outputs": [
    {
     "ename": "NameError",
     "evalue": "name 'df' is not defined",
     "output_type": "error",
     "traceback": [
      "\u001b[1;31m---------------------------------------------------------------------------\u001b[0m",
      "\u001b[1;31mNameError\u001b[0m                                 Traceback (most recent call last)",
      "Cell \u001b[1;32mIn[25], line 1\u001b[0m\n\u001b[1;32m----> 1\u001b[0m df[\u001b[38;5;124m'\u001b[39m\u001b[38;5;124mclass_encoded\u001b[39m\u001b[38;5;124m'\u001b[39m] \u001b[38;5;241m=\u001b[39m \u001b[43mdf\u001b[49m[\u001b[38;5;124m'\u001b[39m\u001b[38;5;124mclass\u001b[39m\u001b[38;5;124m'\u001b[39m]\u001b[38;5;241m.\u001b[39mmap({\u001b[38;5;124m'\u001b[39m\u001b[38;5;124mNormal\u001b[39m\u001b[38;5;124m'\u001b[39m: \u001b[38;5;241m0\u001b[39m, \u001b[38;5;124m'\u001b[39m\u001b[38;5;124mAbnormal\u001b[39m\u001b[38;5;124m'\u001b[39m: \u001b[38;5;241m1\u001b[39m})\n",
      "\u001b[1;31mNameError\u001b[0m: name 'df' is not defined"
     ]
    }
   ],
   "source": [
    "df['class_encoded'] = df['class'].map({'Normal': 0, 'Abnormal': 1})"
   ]
  },
  {
   "cell_type": "markdown",
   "id": "8e281ec9",
   "metadata": {},
   "source": [
    "Mostra as primeiras 5 linhas com a nova coluna codificada"
   ]
  },
  {
   "cell_type": "code",
   "execution_count": null,
   "id": "7973caad",
   "metadata": {},
   "outputs": [
    {
     "ename": "NameError",
     "evalue": "name 'df' is not defined",
     "output_type": "error",
     "traceback": [
      "\u001b[1;31m---------------------------------------------------------------------------\u001b[0m",
      "\u001b[1;31mNameError\u001b[0m                                 Traceback (most recent call last)",
      "Cell \u001b[1;32mIn[26], line 1\u001b[0m\n\u001b[1;32m----> 1\u001b[0m \u001b[38;5;28mprint\u001b[39m(\u001b[43mdf\u001b[49m\u001b[38;5;241m.\u001b[39mhead())\n",
      "\u001b[1;31mNameError\u001b[0m: name 'df' is not defined"
     ]
    }
   ],
   "source": [
    "print(df.head())"
   ]
  },
  {
   "cell_type": "markdown",
   "id": "c548dc08",
   "metadata": {},
   "source": [
    "Mostra o tipo de dado da nova coluna"
   ]
  },
  {
   "cell_type": "code",
   "execution_count": null,
   "id": "097215c3",
   "metadata": {},
   "outputs": [
    {
     "ename": "NameError",
     "evalue": "name 'df' is not defined",
     "output_type": "error",
     "traceback": [
      "\u001b[1;31m---------------------------------------------------------------------------\u001b[0m",
      "\u001b[1;31mNameError\u001b[0m                                 Traceback (most recent call last)",
      "Cell \u001b[1;32mIn[27], line 1\u001b[0m\n\u001b[1;32m----> 1\u001b[0m \u001b[38;5;28mprint\u001b[39m(\u001b[43mdf\u001b[49m\u001b[38;5;241m.\u001b[39mdtypes)\n",
      "\u001b[1;31mNameError\u001b[0m: name 'df' is not defined"
     ]
    }
   ],
   "source": [
    "print(df.dtypes)"
   ]
  }
 ],
 "metadata": {
  "kernelspec": {
   "display_name": "base",
   "language": "python",
   "name": "python3"
  },
  "language_info": {
   "codemirror_mode": {
    "name": "ipython",
    "version": 3
   },
   "file_extension": ".py",
   "mimetype": "text/x-python",
   "name": "python",
   "nbconvert_exporter": "python",
   "pygments_lexer": "ipython3",
   "version": "3.13.5"
  }
 },
 "nbformat": 4,
 "nbformat_minor": 5
}
