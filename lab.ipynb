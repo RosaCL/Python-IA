{
 "cells": [
  {
   "cell_type": "code",
   "execution_count": null,
   "id": "2a73066a",
   "metadata": {},
   "outputs": [],
   "source": []
  },
  {
   "cell_type": "code",
   "execution_count": 1,
   "id": "17ab8038",
   "metadata": {},
   "outputs": [
    {
     "ename": "NameError",
     "evalue": "name 'requests' is not defined",
     "output_type": "error",
     "traceback": [
      "\u001b[1;31m---------------------------------------------------------------------------\u001b[0m",
      "\u001b[1;31mNameError\u001b[0m                                 Traceback (most recent call last)",
      "Cell \u001b[1;32mIn[1], line 2\u001b[0m\n\u001b[0;32m      1\u001b[0m f_zip \u001b[38;5;241m=\u001b[39m \u001b[38;5;124m'\u001b[39m\u001b[38;5;124mhttp://archive.ics.uci.edu/ml/machine-learning-databases/00212/vertebral_column_data.zip\u001b[39m\u001b[38;5;124m'\u001b[39m\n\u001b[1;32m----> 2\u001b[0m r \u001b[38;5;241m=\u001b[39m \u001b[43mrequests\u001b[49m\u001b[38;5;241m.\u001b[39mget(f_zip, stream\u001b[38;5;241m=\u001b[39m\u001b[38;5;28;01mTrue\u001b[39;00m)\n\u001b[0;32m      3\u001b[0m Vertebral_zip \u001b[38;5;241m=\u001b[39m zipfile\u001b[38;5;241m.\u001b[39mZipFile(io\u001b[38;5;241m.\u001b[39mBytesIO(r\u001b[38;5;241m.\u001b[39mcontent))\n\u001b[0;32m      4\u001b[0m Vertebral_zip\u001b[38;5;241m.\u001b[39mextractall()\n",
      "\u001b[1;31mNameError\u001b[0m: name 'requests' is not defined"
     ]
    }
   ],
   "source": [
    "f_zip = 'http://archive.ics.uci.edu/ml/machine-learning-databases/00212/vertebral_column_data.zip'\n",
    "r = requests.get(f_zip, stream=True)\n",
    "Vertebral_zip = zipfile.ZipFile(io.BytesIO(r.content))\n",
    "Vertebral_zip.extractall()\n",
    "data = arff.loadarff('column_2C_weka.arff')"
   ]
  },
  {
   "cell_type": "markdown",
   "id": "0e540089",
   "metadata": {},
   "source": [
    "URL onde está o arquivo ZIP com o dataset \"vertebral_column_data\"\n",
    "f_zip = 'http://archive.ics.uci.edu/ml/machine-learning-databases/00212/vertebral_column_data.zip'\n",
    "\n",
    " Faz a requisição HTTP para baixar o arquivo ZIP da URL\n",
    "# O parâmetro stream=True permite que o download seja feito em partes (streaming)\n",
    "r = requests.get(f_zip, stream=True)\n",
    "\n",
    "Abre o arquivo ZIP diretamente da memória (sem precisar salvar em disco antes)\n",
    "Vertebral_zip = zipfile.ZipFile(io.BytesIO(r.content))\n",
    "\n",
    " Extrai todos os arquivos contidos no ZIP para a pasta atual\n",
    "Vertebral_zip.extractall()\n",
    "Carrega o arquivo .arff (um formato de dataset usado no Weka)\n",
    " A função retorna uma tupla: (dados, metadados)\n",
    "data = arff.loadarff('column_2C_weka.arff')"
   ]
  },
  {
   "cell_type": "markdown",
   "id": "5ecfab8e",
   "metadata": {},
   "source": [
    " Configura o warnings para ignorar avisos (não vai mostrar mensagens de warning na execução)\n",
    "warnings.simplefilter('ignore')\n",
    "\n",
    " Importa bibliotecas adicionais\n",
    "import pandas as pd       # Biblioteca poderosa para manipulação e análise de dados\n",
    "from scipy.io import arff # Permite carregar arquivos no formato .arff (usado em datasets de machine learning, como do Weka)"
   ]
  },
  {
   "cell_type": "code",
   "execution_count": null,
   "id": "12afc892",
   "metadata": {},
   "outputs": [],
   "source": [
    "warnings.simplefilter('ignore')\n",
    "import pandas as pd \n",
    "from scipy.io import arff"
   ]
  },
  {
   "cell_type": "markdown",
   "id": "d9845fff",
   "metadata": {},
   "source": [
    "Importa bibliotecas necessárias\n",
    "import warnings   # Usada para controlar ou suprimir mensagens de aviso do Python\n",
    "import requests   # Usada para fazer requisições HTTP (baixar arquivos da internet, por exemplo)\n",
    "import zipfile    # Permite trabalhar com arquivos compactados no formato .zip\n",
    "import io         # Fornece ferramentas para lidar com fluxos de dados (ex: arquivos em memória)"
   ]
  },
  {
   "cell_type": "code",
   "execution_count": null,
   "id": "f3b346fa",
   "metadata": {},
   "outputs": [],
   "source": [
    "import warnings\n",
    "import requests\n",
    "import zipfile\n",
    "import io  "
   ]
  },
  {
   "cell_type": "markdown",
   "id": "3a90b05d",
   "metadata": {},
   "source": [
    "Classificar pacientes ortopedicos como normal ou abnormal usando machine learning\n",
    "Há 6 atributos biomecânimos que descrevem a postura da pelve e da coluna lombar\n",
    "Classificar em: Normal, hérnia de disco e espondiolistese\n",
    "Classificação binaria: normal ou abnormal(hernia de disco + espondiolistese agrupadas)\n",
    "Cada paciente possui 6 atributos númericos: Incidência pelvica, Angulo de lordose lombar, inclinação sacral, raio pelvico, grau de espondiolistese#Calsse(target/label) indica se o paciente é Normal ou Adnormal\n",
    "#os dados vêm do UCI Machine Learning Repository."
   ]
  }
 ],
 "metadata": {
  "kernelspec": {
   "display_name": "base",
   "language": "python",
   "name": "python3"
  },
  "language_info": {
   "codemirror_mode": {
    "name": "ipython",
    "version": 3
   },
   "file_extension": ".py",
   "mimetype": "text/x-python",
   "name": "python",
   "nbconvert_exporter": "python",
   "pygments_lexer": "ipython3",
   "version": "3.13.5"
  }
 },
 "nbformat": 4,
 "nbformat_minor": 5
}
