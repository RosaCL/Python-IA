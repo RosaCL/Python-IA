{
 "cells": [
  {
   "cell_type": "markdown",
   "id": "94d7ef3b",
   "metadata": {},
   "source": [
    "Classificar pacientes ortopedicos como normal ou abnormal usando machine learning\n",
    "#Há 6 atributos biomecânimos que descrevem a postura da pelve e da coluna lombar\n",
    "Classificar em: Normal, hérnia de disco e espondiolistese\n",
    "Classificação binaria: normal ou abnormal(hernia de disco + espondiolistese agrupadas)\n",
    "Cada paciente possui 6 atributos númericos: Incidência pelvica, Angulo de lordose lombar, inclinação sacral, raio pelvico, grau de espondiolistese\n",
    "#Calsse(target/label) indica se o paciente é Normal ou Adnormal\n",
    "#os dados vêm do UCI Machine Learning Repository."
   ]
  },
  {
   "cell_type": "code",
   "id": "dbab69bc",
   "metadata": {
    "ExecuteTime": {
     "end_time": "2025-08-21T09:37:40.514725Z",
     "start_time": "2025-08-21T09:37:40.422947Z"
    }
   },
   "source": [
    "import warnings\n",
    "import requests\n",
    "import zipfile\n",
    "import io"
   ],
   "outputs": [],
   "execution_count": 1
  },
  {
   "cell_type": "markdown",
   "id": "c9c3677d",
   "metadata": {},
   "source": [
    "Ignora mensagens de avisos para não poluir a saída do programa "
   ]
  },
  {
   "cell_type": "code",
   "id": "660007ec",
   "metadata": {
    "ExecuteTime": {
     "end_time": "2025-08-21T09:37:43.933788Z",
     "start_time": "2025-08-21T09:37:43.929745Z"
    }
   },
   "source": [
    "warnings.simplefilter('ignore')"
   ],
   "outputs": [],
   "execution_count": 2
  },
  {
   "cell_type": "code",
   "id": "13cd5150",
   "metadata": {
    "ExecuteTime": {
     "end_time": "2025-08-21T09:37:49.641946Z",
     "start_time": "2025-08-21T09:37:48.587845Z"
    }
   },
   "source": [
    "import pandas as pd"
   ],
   "outputs": [],
   "execution_count": 3
  },
  {
   "cell_type": "markdown",
   "id": "0c8efb2a",
   "metadata": {},
   "source": [
    "importa função para ler arquivos"
   ]
  },
  {
   "cell_type": "code",
   "id": "6dcda28d",
   "metadata": {
    "ExecuteTime": {
     "end_time": "2025-08-21T09:38:38.243087Z",
     "start_time": "2025-08-21T09:38:31.219402Z"
    }
   },
   "source": [
    "from scipy.io import arff"
   ],
   "outputs": [],
   "execution_count": 5
  },
  {
   "cell_type": "markdown",
   "id": "51121719",
   "metadata": {},
   "source": [
    "url do arquivo zip com o dataset \"vertebral column\" no repositório da UCI"
   ]
  },
  {
   "cell_type": "code",
   "id": "a3b22b66",
   "metadata": {
    "ExecuteTime": {
     "end_time": "2025-08-21T09:38:45.503268Z",
     "start_time": "2025-08-21T09:38:45.498565Z"
    }
   },
   "source": [
    "f_zip = 'http://archive.ics.uci.edu/ml/machine-learning-databases/00212/vertebral_column_data.zip'"
   ],
   "outputs": [],
   "execution_count": 7
  },
  {
   "cell_type": "markdown",
   "id": "9e3804a2",
   "metadata": {},
   "source": [
    "Faz o download do arquivo zip a partir da url"
   ]
  },
  {
   "cell_type": "code",
   "id": "0b71657e",
   "metadata": {
    "ExecuteTime": {
     "end_time": "2025-08-21T09:38:49.968640Z",
     "start_time": "2025-08-21T09:38:49.406442Z"
    }
   },
   "source": [
    "r = requests.get(f_zip, stream=True)"
   ],
   "outputs": [],
   "execution_count": 8
  },
  {
   "cell_type": "markdown",
   "id": "db9c3be6",
   "metadata": {},
   "source": [
    "converte o conteúdo baixado (r.content) em um arquivo de memória (bytesIO) e abre um arquivo zip para manipulação"
   ]
  },
  {
   "cell_type": "code",
   "id": "f61ffba0",
   "metadata": {
    "ExecuteTime": {
     "end_time": "2025-08-21T09:38:52.997059Z",
     "start_time": "2025-08-21T09:38:52.988571Z"
    }
   },
   "source": [
    "Vertebral_zip = zipfile.ZipFile(io.BytesIO(r.content))"
   ],
   "outputs": [],
   "execution_count": 9
  },
  {
   "metadata": {},
   "cell_type": "markdown",
   "source": "Extrair todos os arquivos do ZIP para o diretório atual",
   "id": "7dce827d7f8474eb"
  },
  {
   "metadata": {
    "ExecuteTime": {
     "end_time": "2025-08-21T09:42:49.861410Z",
     "start_time": "2025-08-21T09:42:49.850397Z"
    }
   },
   "cell_type": "code",
   "source": "Vertebral_zip.extractall()",
   "id": "f508a9ce598bae51",
   "outputs": [],
   "execution_count": 15
  },
  {
   "cell_type": "markdown",
   "id": "a3e78426",
   "metadata": {},
   "source": [
    "Lista os arquivos dentro do zip para verificar o nome correto"
   ]
  },
  {
   "cell_type": "code",
   "id": "0799942a",
   "metadata": {
    "ExecuteTime": {
     "end_time": "2025-08-21T09:38:56.491186Z",
     "start_time": "2025-08-21T09:38:56.483506Z"
    }
   },
   "source": [
    "print(\"Arquivos no ZIP:\", Vertebral_zip.namelist())"
   ],
   "outputs": [
    {
     "name": "stdout",
     "output_type": "stream",
     "text": [
      "Arquivos no ZIP: ['column_2C.dat', 'column_2C_weka.arff', 'column_3C.dat', 'column_3C_weka.arff']\n"
     ]
    }
   ],
   "execution_count": 10
  },
  {
   "cell_type": "markdown",
   "id": "660415bf",
   "metadata": {},
   "source": [
    "Extrair todos os arquivos do zip para o diretorio atual"
   ]
  },
  {
   "cell_type": "code",
   "id": "39719ea1",
   "metadata": {
    "ExecuteTime": {
     "end_time": "2025-08-21T09:43:10.871315Z",
     "start_time": "2025-08-21T09:43:10.786913Z"
    }
   },
   "source": [
    "Vertebral_zip.extractall()\n",
    "data = arff.loadarff('column_3C_weka.arff')"
   ],
   "outputs": [],
   "execution_count": 16
  },
  {
   "cell_type": "markdown",
   "id": "fb6e25bb",
   "metadata": {},
   "source": [
    "cria o dataframe tabela do pandas com dados carregados"
   ]
  },
  {
   "cell_type": "code",
   "id": "a88b273f",
   "metadata": {
    "ExecuteTime": {
     "end_time": "2025-08-21T09:43:17.724818Z",
     "start_time": "2025-08-21T09:43:17.712169Z"
    }
   },
   "source": [
    "df = pd.DataFrame(data[0])"
   ],
   "outputs": [],
   "execution_count": 17
  },
  {
   "cell_type": "markdown",
   "id": "799c4e3f",
   "metadata": {},
   "source": [
    "mostra as 5 primeiras linhas "
   ]
  },
  {
   "cell_type": "code",
   "id": "0eb3dca7",
   "metadata": {
    "ExecuteTime": {
     "end_time": "2025-08-21T09:43:20.097495Z",
     "start_time": "2025-08-21T09:43:20.088145Z"
    }
   },
   "source": [
    "print(df.head())"
   ],
   "outputs": [
    {
     "name": "stdout",
     "output_type": "stream",
     "text": [
      "   pelvic_incidence  pelvic_tilt  lumbar_lordosis_angle  sacral_slope  \\\n",
      "0         63.027817    22.552586              39.609117     40.475232   \n",
      "1         39.056951    10.060991              25.015378     28.995960   \n",
      "2         68.832021    22.218482              50.092194     46.613539   \n",
      "3         69.297008    24.652878              44.311238     44.644130   \n",
      "4         49.712859     9.652075              28.317406     40.060784   \n",
      "\n",
      "   pelvic_radius  degree_spondylolisthesis      class  \n",
      "0      98.672917                 -0.254400  b'Hernia'  \n",
      "1     114.405425                  4.564259  b'Hernia'  \n",
      "2     105.985135                 -3.530317  b'Hernia'  \n",
      "3     101.868495                 11.211523  b'Hernia'  \n",
      "4     108.168725                  7.918501  b'Hernia'  \n"
     ]
    }
   ],
   "execution_count": 18
  }
 ],
 "metadata": {
  "kernelspec": {
   "display_name": "base",
   "language": "python",
   "name": "python3"
  },
  "language_info": {
   "codemirror_mode": {
    "name": "ipython",
    "version": 3
   },
   "file_extension": ".py",
   "mimetype": "text/x-python",
   "name": "python",
   "nbconvert_exporter": "python",
   "pygments_lexer": "ipython3",
   "version": "3.13.5"
  }
 },
 "nbformat": 4,
 "nbformat_minor": 5
}
