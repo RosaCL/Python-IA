{
 "cells": [
  {
   "cell_type": "markdown",
   "id": "94d7ef3b",
   "metadata": {},
   "source": [
    "Classificar pacientes ortopedicos como normal ou abnormal usando machine learning\n",
    "#Há 6 atributos biomecânimos que descrevem a postura da pelve e da coluna lombar\n",
    "Classificar em: Normal, hérnia de disco e espondiolistese\n",
    "Classificação binaria: normal ou abnormal(hernia de disco + espondiolistese agrupadas)\n",
    "Cada paciente possui 6 atributos númericos: Incidência pelvica, Angulo de lordose lombar, inclinação sacral, raio pelvico, grau de espondiolistese\n",
    "#Calsse(target/label) indica se o paciente é Normal ou Adnormal\n",
    "#os dados vêm do UCI Machine Learning Repository."
   ]
  },
  {
   "cell_type": "code",
   "execution_count": 1,
   "id": "dbab69bc",
   "metadata": {},
   "outputs": [],
   "source": [
    "import warnings\n",
    "import requests\n",
    "import zipfile\n",
    "import io"
   ]
  },
  {
   "cell_type": "markdown",
   "id": "c9c3677d",
   "metadata": {},
   "source": [
    "Ignora mensagens de avisos para não poluir a saída do programa "
   ]
  },
  {
   "cell_type": "code",
   "execution_count": 2,
   "id": "660007ec",
   "metadata": {},
   "outputs": [],
   "source": [
    "warnings.simplefilter('ignore')"
   ]
  },
  {
   "cell_type": "code",
   "execution_count": 4,
   "id": "13cd5150",
   "metadata": {},
   "outputs": [
    {
     "ename": "ModuleNotFoundError",
     "evalue": "No module named 'pandas'",
     "output_type": "error",
     "traceback": [
      "\u001b[1;31m---------------------------------------------------------------------------\u001b[0m",
      "\u001b[1;31mModuleNotFoundError\u001b[0m                       Traceback (most recent call last)",
      "Cell \u001b[1;32mIn[4], line 1\u001b[0m\n\u001b[1;32m----> 1\u001b[0m \u001b[38;5;28;01mimport\u001b[39;00m\u001b[38;5;250m \u001b[39m\u001b[38;5;21;01mpandas\u001b[39;00m\u001b[38;5;250m \u001b[39m\u001b[38;5;28;01mas\u001b[39;00m\u001b[38;5;250m \u001b[39m\u001b[38;5;21;01mpd\u001b[39;00m\n",
      "\u001b[1;31mModuleNotFoundError\u001b[0m: No module named 'pandas'"
     ]
    }
   ],
   "source": [
    "import pandas as pd"
   ]
  },
  {
   "cell_type": "markdown",
   "id": "0c8efb2a",
   "metadata": {},
   "source": [
    "importa função para ler arquivos"
   ]
  },
  {
   "cell_type": "code",
   "execution_count": null,
   "id": "6dcda28d",
   "metadata": {},
   "outputs": [],
   "source": [
    "from scipy.io import arff"
   ]
  },
  {
   "cell_type": "markdown",
   "id": "51121719",
   "metadata": {},
   "source": [
    "url do arquivo zip com o dataset \"vertebral column\" no repositório da UCI"
   ]
  },
  {
   "cell_type": "code",
   "execution_count": null,
   "id": "a3b22b66",
   "metadata": {},
   "outputs": [],
   "source": [
    "f_zip = 'http://archive.ics.uci.edu/ml/machine-learning-databases/00212/vertebral_column_data.zip'"
   ]
  },
  {
   "cell_type": "markdown",
   "id": "9e3804a2",
   "metadata": {},
   "source": [
    "Faz o download do arquivo zip a partir da url"
   ]
  },
  {
   "cell_type": "code",
   "execution_count": null,
   "id": "0b71657e",
   "metadata": {
    "jupyter": {
     "is_executing": true
    }
   },
   "outputs": [],
   "source": [
    "r = requests.get(f_zip, stream=True)"
   ]
  },
  {
   "cell_type": "markdown",
   "id": "db9c3be6",
   "metadata": {},
   "source": [
    "converte o conteúdo baixado (r.content) em um arquivo de memória (bytesIO) e abre um arquivo zip para manipulação"
   ]
  },
  {
   "cell_type": "code",
   "execution_count": null,
   "id": "f61ffba0",
   "metadata": {},
   "outputs": [],
   "source": [
    "Vertebral_zip = zipfile.ZipFile(io.BytesIO(r.content))"
   ]
  },
  {
   "cell_type": "markdown",
   "id": "a3e78426",
   "metadata": {},
   "source": [
    "Lista os arquivos dentro do zip para verificar o nome correto"
   ]
  },
  {
   "cell_type": "code",
   "execution_count": null,
   "id": "0799942a",
   "metadata": {},
   "outputs": [],
   "source": [
    "print(\"Arquivos no ZIP:\", Vertebral_zip.namelist())"
   ]
  },
  {
   "cell_type": "markdown",
   "id": "660415bf",
   "metadata": {},
   "source": [
    "Extrair todos os arquivos do zip para o diretorio atual"
   ]
  },
  {
   "cell_type": "code",
   "execution_count": null,
   "id": "39719ea1",
   "metadata": {},
   "outputs": [],
   "source": [
    "Vertebral_zip.extractall()\n",
    "data = arff.loadarff('column_2C.arff')"
   ]
  },
  {
   "cell_type": "markdown",
   "id": "fb6e25bb",
   "metadata": {},
   "source": [
    "cria o dataframe tabela do pandas com dados carregados"
   ]
  },
  {
   "cell_type": "code",
   "execution_count": null,
   "id": "a88b273f",
   "metadata": {},
   "outputs": [],
   "source": [
    "df = pd.DataFrame(data[0])"
   ]
  },
  {
   "cell_type": "markdown",
   "id": "799c4e3f",
   "metadata": {},
   "source": [
    "mostra as 5 primeiras linhas "
   ]
  },
  {
   "cell_type": "code",
   "execution_count": null,
   "id": "0eb3dca7",
   "metadata": {},
   "outputs": [],
   "source": [
    "print(df.head())"
   ]
  }
 ],
 "metadata": {
  "kernelspec": {
   "display_name": "base",
   "language": "python",
   "name": "python3"
  },
  "language_info": {
   "codemirror_mode": {
    "name": "ipython",
    "version": 3
   },
   "file_extension": ".py",
   "mimetype": "text/x-python",
   "name": "python",
   "nbconvert_exporter": "python",
   "pygments_lexer": "ipython3",
   "version": "3.13.5"
  }
 },
 "nbformat": 4,
 "nbformat_minor": 5
}
