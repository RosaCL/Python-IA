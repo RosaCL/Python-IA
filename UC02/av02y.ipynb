{
 "cells": [
  {
   "cell_type": "markdown",
   "id": "fbee6fc8",
   "metadata": {},
   "source": [
    "Classificar pacientes ortopedicos como normal ou abnormal usando machine learning\n",
    "#Há 6 atributos biomecânimos que descrevem a postura da pelve e da coluna lombar\n",
    "Classificar em: Normal, hérnia de disco e espondiolistese\n",
    "Classificação binaria: normal ou abnormal(hernia de disco + espondiolistese agrupadas)\n",
    "Cada paciente possui 6 atributos númericos: Incidência pelvica, Angulo de lordose lombar, inclinação sacral, raio pelvico, grau de espondiolistese\n",
    "#Calsse(target/label) indica se o paciente é Normal ou Adnormal\n",
    "#os dados vêm do UCI Machine Learning Repository."
   ]
  },
  {
   "cell_type": "code",
   "execution_count": 1,
   "id": "dbab69bc",
   "metadata": {},
   "outputs": [],
   "source": [
    "import warnings\n",
    "import requests\n",
    "import zipfile\n",
    "import io"
   ]
  },
  {
   "cell_type": "markdown",
   "id": "c9c3677d",
   "metadata": {},
   "source": [
    "Ignora mensagens de avisos para não poluir a saída do programa "
   ]
  },
  {
   "cell_type": "code",
   "execution_count": 2,
   "id": "660007ec",
   "metadata": {},
   "outputs": [],
   "source": [
    "warnings.simplefilter('ignore')"
   ]
  },
  {
   "cell_type": "code",
   "execution_count": 4,
   "id": "13cd5150",
   "metadata": {},
   "outputs": [
    {
     "ename": "ModuleNotFoundError",
     "evalue": "No module named 'pandas'",
     "output_type": "error",
     "traceback": [
      "\u001b[1;31m---------------------------------------------------------------------------\u001b[0m",
      "\u001b[1;31mModuleNotFoundError\u001b[0m                       Traceback (most recent call last)",
      "Cell \u001b[1;32mIn[4], line 1\u001b[0m\n\u001b[1;32m----> 1\u001b[0m \u001b[38;5;28;01mimport\u001b[39;00m\u001b[38;5;250m \u001b[39m\u001b[38;5;21;01mpandas\u001b[39;00m\u001b[38;5;250m \u001b[39m\u001b[38;5;28;01mas\u001b[39;00m\u001b[38;5;250m \u001b[39m\u001b[38;5;21;01mpd\u001b[39;00m\n",
      "\u001b[1;31mModuleNotFoundError\u001b[0m: No module named 'pandas'"
     ]
    }
   ],
   "source": [
    "import pandas as pd"
   ]
  },
  {
   "cell_type": "markdown",
   "id": "0c8efb2a",
   "metadata": {},
   "source": [
    "importa função para ler arquivos"
   ]
  },
  {
   "cell_type": "code",
   "execution_count": null,
   "id": "6dcda28d",
   "metadata": {},
   "outputs": [],
   "source": [
    "from scipy.io import arff"
   ]
  },
  {
   "cell_type": "markdown",
   "id": "51121719",
   "metadata": {},
   "source": [
    "url do arquivo zip com o dataset \"vertebral column\" no repositório da UCI"
   ]
  },
  {
   "cell_type": "code",
   "execution_count": null,
   "id": "a3b22b66",
   "metadata": {},
   "outputs": [],
   "source": [
    "f_zip = 'http://archive.ics.uci.edu/ml/machine-learning-databases/00212/vertebral_column_data.zip'"
   ]
  },
  {
   "cell_type": "markdown",
   "id": "9e3804a2",
   "metadata": {},
   "source": [
    "Faz o download do arquivo zip a partir da url"
   ]
  },
  {
   "cell_type": "code",
   "execution_count": null,
   "id": "0b71657e",
   "metadata": {
    "jupyter": {
     "is_executing": true
    }
   },
   "outputs": [],
   "source": [
    "r = requests.get(f_zip, stream=True)"
   ]
  },
  {
   "cell_type": "markdown",
   "id": "db9c3be6",
   "metadata": {},
   "source": [
    "converte o conteúdo baixado (r.content) em um arquivo de memória (bytesIO) e abre um arquivo zip para manipulação"
   ]
  },
  {
   "cell_type": "code",
   "execution_count": null,
   "id": "f61ffba0",
   "metadata": {},
   "outputs": [],
   "source": [
    "Vertebral_zip = zipfile.ZipFile(io.BytesIO(r.content))"
   ]
  },
  {
   "cell_type": "markdown",
   "id": "a3e78426",
   "metadata": {},
   "source": [
    "Lista os arquivos dentro do zip para verificar o nome correto"
   ]
  },
  {
   "cell_type": "code",
   "execution_count": null,
   "id": "0799942a",
   "metadata": {},
   "outputs": [],
   "source": [
    "print(\"Arquivos no ZIP:\", Vertebral_zip.namelist())"
   ]
  },
  {
   "cell_type": "markdown",
   "id": "660415bf",
   "metadata": {},
   "source": [
    "Extrair todos os arquivos do zip para o diretorio atual"
   ]
  },
  {
   "cell_type": "code",
   "execution_count": null,
   "id": "39719ea1",
   "metadata": {},
   "outputs": [],
   "source": [
    "Vertebral_zip.extractall()\n",
    "data = arff.loadarff('column_2C.arff')"
   ]
  },
  {
   "cell_type": "markdown",
   "id": "fb6e25bb",
   "metadata": {},
   "source": [
    "cria o dataframe tabela do pandas com dados carregados"
   ]
  },
  {
   "cell_type": "code",
   "execution_count": null,
   "id": "a88b273f",
   "metadata": {},
   "outputs": [],
   "source": [
    "df = pd.DataFrame(data[0])"
   ]
  },
  {
   "cell_type": "markdown",
   "id": "799c4e3f",
   "metadata": {},
   "source": [
    "mostra as 5 primeiras linhas "
   ]
  },
  {
   "cell_type": "code",
   "execution_count": null,
   "id": "0eb3dca7",
   "metadata": {},
   "outputs": [],
   "source": [
    "print(df.head())"
   ]
  },
  {
   "cell_type": "markdown",
   "id": "da9bf031",
   "metadata": {},
   "source": [
    "Carrega o arquivo .arff (um formato de dataset usado no Weka)\n",
    " A função retorna uma tupla: (dados, metadados)"
   ]
  },
  {
   "cell_type": "code",
   "execution_count": null,
   "id": "602c9b27",
   "metadata": {},
   "outputs": [],
   "source": [
    "data = arff.loadarff('column_2C_weka.arff')"
   ]
  },
  {
   "cell_type": "markdown",
   "id": "1ac6bdd7",
   "metadata": {},
   "source": [
    "Converte a primeira parte da tupla (os dados) em um DataFrame do Pandas\n",
    "Assim, fica mais fácil manipular, analisar e visualizar os dados"
   ]
  },
  {
   "cell_type": "code",
   "execution_count": null,
   "id": "47441c26",
   "metadata": {},
   "outputs": [],
   "source": [
    "df = pd.DataFrame(data[0])\n",
    "df.head()\n",
    "df['pelvic_incidence'].describe()"
   ]
  },
  {
   "cell_type": "markdown",
   "id": "61efeabd",
   "metadata": {},
   "source": [
    "Importa a biblioteca para geração de gráficos"
   ]
  },
  {
   "cell_type": "code",
   "execution_count": null,
   "id": "30739a7c",
   "metadata": {},
   "outputs": [],
   "source": [
    "import matplotlib.pyplot as plt\n",
    "df.describe()"
   ]
  },
  {
   "cell_type": "code",
   "execution_count": null,
   "id": "84e0668a",
   "metadata": {},
   "outputs": [],
   "source": [
    "df.plot(\n",
    "        kind='density', # tipo de gráfico: densidade (Kernel Density Estimate)\n",
    "        subplots=True, # cria um gráfico separado para cada coluna\n",
    "        figsize=(12,12),  # define o tamanho da figura (12x12 polegadas)\n",
    "        layout=(4,2), # organiza os gráficos em uma grade de 4 linhas por 2 colunas\n",
    "        sharex=False  # cada gráfico terá seu próprio eixo X (independente)\n",
    ")\n",
    "\n",
    "#Exibir os gráficos que foram gerados com o .plot()\n",
    "plt.show()\n",
    "df['degree_spondylolisthesis'].plot.density()\n",
    "\n"
   ]
  },
  {
   "cell_type": "code",
   "execution_count": null,
   "id": "bbd889c2",
   "metadata": {},
   "outputs": [],
   "source": [
    "df['degree_spondylolisthesis'].plot.hist()"
   ]
  },
  {
   "cell_type": "code",
   "execution_count": null,
   "id": "39e2b8bd",
   "metadata": {},
   "outputs": [],
   "source": [
    "df['degree_spondylolisthesis'].plot.box()"
   ]
  },
  {
   "cell_type": "code",
   "execution_count": null,
   "id": "61008764",
   "metadata": {},
   "outputs": [],
   "source": [
    "# Conta quantas vezes cada categoria aparece na coluna 'class'\n",
    "# Isso mostra o balanceamento das classes no dataset\n",
    "df['class'].value_counts()"
   ]
  },
  {
   "cell_type": "markdown",
   "id": "832d55db",
   "metadata": {},
   "source": [
    "Cria um dicionário para mapear as classes do dataset:\n",
    "'Abnormal' será representado por 1 e 'Normal' por 0\n",
    "Obs: os valores vêm como bytes (b'...') porque o arquivo ARFF armazena assim"
   ]
  },
  {
   "cell_type": "code",
   "execution_count": null,
   "id": "af5d4855",
   "metadata": {},
   "outputs": [],
   "source": [
    "class_mapper = {b'Abnormal': 1, b'Normal': 0}"
   ]
  },
  {
   "cell_type": "markdown",
   "id": "8f741c50",
   "metadata": {},
   "source": [
    "Substitui os valores da coluna 'class' usando o mapeamento definido"
   ]
  },
  {
   "cell_type": "code",
   "execution_count": null,
   "id": "3e69cdd5",
   "metadata": {},
   "outputs": [],
   "source": [
    "df['class'] = df['class'].replace(class_mapper)"
   ]
  },
  {
   "cell_type": "markdown",
   "id": "94162478",
   "metadata": {},
   "source": [
    "Cria um gráfico de dispersão (scatter plot)\n",
    "Mostra a relação entre a variável 'degree_spondylolisthesis' (eixo Y) e a variável 'class' (eixo X, que foi convertida para 0 = Normal e 1 = Abnormal)\n",
    "\n",
    " \n",
    " "
   ]
  },
  {
   "cell_type": "code",
   "execution_count": null,
   "id": "000c999c",
   "metadata": {},
   "outputs": [],
   "source": [
    "df.plot.scatter(\n",
    "    y='degree_spondylolisthesis',  # variável no eixo Y\n",
    "    x='class'                      # variável no eixo X\n",
    ")"
   ]
  },
  {
   "cell_type": "markdown",
   "id": "38314746",
   "metadata": {},
   "source": [
    "Cria boxplots para cada variável do DataFrame, agrupando os dados pela coluna 'class' (0 = Normal, 1 = Abnormal)\n",
    "\n",
    " "
   ]
  },
  {
   "cell_type": "code",
   "execution_count": null,
   "id": "b75be1f5",
   "metadata": {},
   "outputs": [],
   "source": [
    "df.groupby('class').boxplot(\n",
    "    fontsize=20,       # Tamanho da fonte dos rótulos\n",
    "    rot=90,            # Rotaciona os nomes das variáveis em 90° (vertical) para melhor leitura\n",
    "    figsize=(20,10),   # Define o tamanho da figura (20x10 polegadas)\n",
    "    patch_artist=True  # Preenche as caixas dos boxplots com cor\n",
    ")"
   ]
  },
  {
   "cell_type": "markdown",
   "id": "b95d4072",
   "metadata": {},
   "source": [
    "Calcula a matriz de correlação entre todas as variáveis numéricas do DataFrame"
   ]
  },
  {
   "cell_type": "code",
   "execution_count": null,
   "id": "3403fd0e",
   "metadata": {},
   "outputs": [],
   "source": [
    "corr_matrix = df.corr()"
   ]
  },
  {
   "cell_type": "markdown",
   "id": "2fa5fd0d",
   "metadata": {},
   "source": [
    "Seleciona a coluna 'class' da matriz de correlação e ordena os valores de forma decrescente\n",
    "Assim, vemos quais variáveis estão mais correlacionadas (positiva ou negativamente) com a classe"
   ]
  },
  {
   "cell_type": "code",
   "execution_count": null,
   "id": "51dc1f5d",
   "metadata": {},
   "outputs": [],
   "source": [
    "corr_matrix[\"class\"].sort_values(ascending=False)"
   ]
  },
  {
   "cell_type": "markdown",
   "id": "8abc2efd",
   "metadata": {},
   "source": [
    "Cria uma matriz de scatter plots (gráficos de dispersão) entre todas as variáveis do DataFrame\n",
    "Cada célula da matriz mostra a relação entre duas variáveis\n",
    "\n",
    "\n",
    " "
   ]
  },
  {
   "cell_type": "code",
   "execution_count": null,
   "id": "72f5e7cf",
   "metadata": {},
   "outputs": [],
   "source": [
    "pd.plotting.scatter_matrix(\n",
    "    df,          # DataFrame com os dados\n",
    "    figsize=(12,12)  # Define o tamanho da figura\n",
    ")"
   ]
  },
  {
   "cell_type": "markdown",
   "id": "6fb352ad",
   "metadata": {},
   "source": [
    "Exibe os gráficos"
   ]
  },
  {
   "cell_type": "code",
   "execution_count": null,
   "id": "5e515f2b",
   "metadata": {},
   "outputs": [],
   "source": [
    "plt.show()"
   ]
  },
  {
   "cell_type": "markdown",
   "id": "0e69abb8",
   "metadata": {},
   "source": [
    "Calcula a matriz de correlação entre todas as variáveis numéricas do DataFrame"
   ]
  },
  {
   "cell_type": "code",
   "execution_count": null,
   "id": "1d8d5f09",
   "metadata": {},
   "outputs": [],
   "source": [
    "corr_matrix = df.corr()"
   ]
  },
  {
   "cell_type": "markdown",
   "id": "1fc6dc31",
   "metadata": {},
   "source": [
    "Seleciona a coluna 'class' da matriz de correlação e ordena os valores de forma decrescente\n",
    "Assim, vemos quais variáveis estão mais correlacionadas (positiva ou negativamente) com a classe"
   ]
  },
  {
   "cell_type": "code",
   "execution_count": null,
   "id": "52bca5d6",
   "metadata": {},
   "outputs": [],
   "source": [
    "corr_matrix[\"class\"].sort_values(ascending=False)"
   ]
  },
  {
   "cell_type": "markdown",
   "id": "1ec8f99d",
   "metadata": {},
   "source": [
    "Cria uma matriz de scatter plots (gráficos de dispersão) entre todas as variáveis do DataFrame\n",
    "Cada célula da matriz mostra a relação entre duas variáveis"
   ]
  },
  {
   "cell_type": "code",
   "execution_count": null,
   "id": "e2db3046",
   "metadata": {},
   "outputs": [],
   "source": [
    "pd.plotting.scatter_matrix(\n",
    "    df,          # DataFrame com os dados\n",
    "    figsize=(12,12)  # Define o tamanho da figura\n",
    ")\n"
   ]
  },
  {
   "cell_type": "markdown",
   "id": "39e77511",
   "metadata": {},
   "source": [
    "Exibe os gráficos"
   ]
  },
  {
   "cell_type": "code",
   "execution_count": null,
   "id": "770f5c8c",
   "metadata": {},
   "outputs": [],
   "source": [
    "plt.show()"
   ]
  },
  {
   "cell_type": "markdown",
   "id": "e25b3726",
   "metadata": {},
   "source": [
    "Importa a biblioteca Seaborn para visualizações estatísticas avançadas"
   ]
  },
  {
   "cell_type": "code",
   "execution_count": null,
   "id": "13b01259",
   "metadata": {},
   "outputs": [],
   "source": [
    "import seaborn as sns"
   ]
  },
  {
   "cell_type": "markdown",
   "id": "09402684",
   "metadata": {},
   "source": [
    "Cria uma figura e eixos para o gráfico, definindo o tamanho (10x10 polegadas)"
   ]
  },
  {
   "cell_type": "code",
   "execution_count": null,
   "id": "15819a90",
   "metadata": {},
   "outputs": [],
   "source": [
    "fig, ax = plt.subplots(figsize=(10, 10))"
   ]
  },
  {
   "cell_type": "markdown",
   "id": "c98ffe84",
   "metadata": {},
   "source": [
    "Define o mapa de cores para o heatmap\n",
    "sns.color_palette(\"BrBG\", 10) gera uma paleta de cores divergente com 10 tons"
   ]
  },
  {
   "cell_type": "code",
   "execution_count": null,
   "id": "12925eed",
   "metadata": {},
   "outputs": [],
   "source": [
    "colormap = sns.color_palette(\"BrBG\", 10)"
   ]
  },
  {
   "cell_type": "markdown",
   "id": "6b722621",
   "metadata": {},
   "source": [
    "Gera o heatmap da matriz de correlação\n",
    " - corr_matrix: matriz de correlação calculada anteriormente\n",
    " - cmap=colormap: define a paleta de cores\n",
    " - annot=True: adiciona os valores numéricos dentro de cada célula\n",
    "- fmt=\".2f\": formata os números com duas casas decimais\n"
   ]
  },
  {
   "cell_type": "code",
   "execution_count": null,
   "id": "ef856129",
   "metadata": {},
   "outputs": [],
   "source": [
    "sns.heatmap(corr_matrix, cmap=colormap, annot=True, fmt=\".2f\")"
   ]
  },
  {
   "cell_type": "markdown",
   "id": "1f26061a",
   "metadata": {},
   "source": [
    "Exibe o gráfico"
   ]
  },
  {
   "cell_type": "code",
   "execution_count": null,
   "id": "5e5dca6a",
   "metadata": {},
   "outputs": [],
   "source": [
    "plt.show()"
   ]
  }
 ],
 "metadata": {
  "kernelspec": {
   "display_name": "base",
   "language": "python",
   "name": "python3"
  },
  "language_info": {
   "codemirror_mode": {
    "name": "ipython",
    "version": 3
   },
   "file_extension": ".py",
   "mimetype": "text/x-python",
   "name": "python",
   "nbconvert_exporter": "python",
   "pygments_lexer": "ipython3",
   "version": "3.13.5"
  }
 },
 "nbformat": 4,
 "nbformat_minor": 5
}
